{
 "cells": [
  {
   "cell_type": "code",
   "execution_count": null,
   "metadata": {},
   "outputs": [],
   "source": [
    "from pathlib import Path\n",
    "import numpy as np\n",
    "from utils import *\n",
    "import wave"
   ]
  },
  {
   "cell_type": "code",
   "execution_count": null,
   "metadata": {},
   "outputs": [],
   "source": [
    "data_root_path = Path('all_training_data')\n",
    "annotations_paths = sorted(data_root_path.rglob('*.csv'))\n",
    "annotations_names = [path.stem for path in annotations_paths]"
   ]
  },
  {
   "cell_type": "code",
   "execution_count": null,
   "metadata": {},
   "outputs": [],
   "source": [
    "all_recordings_paths = sorted(Path(r'bioacoustics\\experiment_2021\\raw_plant_data\\Aufnahmen').rglob('*.wav'))\n",
    "all_recordings_paths = [p for p in all_recordings_paths if (p.stem.lower().find('test') == -1)]"
   ]
  },
  {
   "cell_type": "code",
   "execution_count": null,
   "metadata": {},
   "outputs": [],
   "source": [
    "for p in all_recordings_paths:\n",
    "    name = p.stem.lower()\n",
    "    name = name.replace('uhr', '')\n",
    "    name = name.replace('ohne', '')\n",
    "    name = name.replace('zählung', '')\n",
    "    name = name.replace('mikrofon', '')\n",
    "    name = name.replace('aufnahme direkt an der blüte ', '')\n",
    "    name = name.replace('aufnahme an kreis mittelpunkt ', '')\n",
    "    name = name.replace(' zu- und abflug', '')\n",
    "    name = name.replace('30min mik', '')\n",
    "    name = name.replace(' pie', '')\n",
    "    name = name.replace(',', '')\n",
    "    name = name.replace('..', '.')\n",
    "    name = name.replace('   ', '').strip()\n",
    "    name_parts = sorted(name.split(' '), key=lambda x: x.count('.'), reverse=True)\n",
    "    if len(name_parts[-1]) == 7:\n",
    "        name_parts = name_parts[:-1] + [name_parts[-1][:5], name_parts[-1][5:]]\n",
    "    if len(name_parts) < 3:\n",
    "        name_parts = name_parts[:1] + [''] + name_parts[1:]\n",
    "    if len(name_parts[0]) == 8:\n",
    "        name_parts[0] = name_parts[0][:-2] + '20' + name_parts[0][-2:]\n",
    "    name = '_'.join(name_parts).replace('.', '')\n",
    "\n",
    "    if not name in annotations_names:\n",
    "        continue\n",
    "    save_path = annotations_paths[annotations_names.index(name)].with_suffix('.wav')\n",
    "    if save_path.exists():\n",
    "        continue\n",
    "\n",
    "    audio, sr = preprocessing(p)\n",
    "    frame_length = sr // 2\n",
    "    audio = segmentation(audio, sr, frame_length, frame_length)\n",
    "    with wave.open(str(save_path), 'wb') as f:\n",
    "        f.setnchannels(1)\n",
    "        f.setsampwidth(2)\n",
    "        f.setframerate(sr)\n",
    "        for audio_seg in audio:\n",
    "            audio_seg = (audio_seg * 32767).astype(np.int16)\n",
    "            f.writeframes(audio_seg.tobytes())\n"
   ]
  },
  {
   "cell_type": "code",
   "execution_count": null,
   "metadata": {},
   "outputs": [],
   "source": [
    "valid_labels = ['Bee', 'NoisyBee']\n",
    "correct_labels_dict = {\n",
    "    'NosiyBee': 'NoisyBee',\n",
    "    'Noisy': 'NoisyBee',\n",
    "    'Noisy\\'Bee': 'NoisyBee',\n",
    "    'NoisyBe': 'NoisyBee',\n",
    "    'noisyBee': 'NoisyBee',\n",
    "    'bee': 'Bee',\n",
    "    'NoiyBee': 'NoisyBee',\n",
    "    'NoisyBeee': 'NoisyBee',\n",
    "    'NoiosyBee': 'NoisyBee',\n",
    "    'Noisybee': 'NoisyBee',\n",
    "    'NoiysBee': 'NoisyBee',\n",
    "    'nousyBee': 'NoisyBee',\n",
    "    'NoioyBee': 'NoisyBee',\n",
    "    'NosiyBeee': 'NoisyBee',\n",
    "}\n",
    "\n",
    "for annotations_path in annotations_paths:\n",
    "    annotations = pd.read_csv(annotations_path)\n",
    "    annotations['label'] = annotations['label'].apply(lambda x: x.strip() if type(x) == str else x)\n",
    "    annotations['label'] = annotations['label'].apply(lambda x: correct_labels_dict.get(x, x))\n",
    "    annotations.to_csv(annotations_path, index=False)\n",
    "    raw_labels = annotations['label'].unique()\n",
    "    if all([label in valid_labels for label in raw_labels]): continue\n",
    "        \n",
    "    print(annotations['label'].unique(), annotations_path)"
   ]
  }
 ],
 "metadata": {
  "kernelspec": {
   "display_name": "rozhin",
   "language": "python",
   "name": "python3"
  },
  "language_info": {
   "codemirror_mode": {
    "name": "ipython",
    "version": 3
   },
   "file_extension": ".py",
   "mimetype": "text/x-python",
   "name": "python",
   "nbconvert_exporter": "python",
   "pygments_lexer": "ipython3",
   "version": "3.10.13"
  }
 },
 "nbformat": 4,
 "nbformat_minor": 2
}
