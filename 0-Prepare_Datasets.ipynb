{
 "cells": [
  {
   "cell_type": "code",
   "execution_count": null,
   "metadata": {},
   "outputs": [],
   "source": [
    "from pathlib import Path\n",
    "import gc\n",
    "import numpy as np\n",
    "import pandas as pd\n",
    "from keras.utils import set_random_seed\n",
    "from utils import *"
   ]
  },
  {
   "cell_type": "code",
   "execution_count": null,
   "metadata": {},
   "outputs": [],
   "source": [
    "random_seed = 13\n",
    "set_random_seed(random_seed)\n",
    "rng = np.random.default_rng(random_seed)"
   ]
  },
  {
   "cell_type": "code",
   "execution_count": null,
   "metadata": {},
   "outputs": [],
   "source": [
    "dataset_version = 3\n",
    "sr = 22050\n",
    "exclude_noisybee = True if dataset_version == 2 else False\n",
    "balancing = True\n",
    "frame_length = sr\n",
    "hop_length = frame_length//5\n",
    "test_hop_length = frame_length//2\n",
    "bee_fraction_threshold = 1\n"
   ]
  },
  {
   "cell_type": "code",
   "execution_count": null,
   "metadata": {},
   "outputs": [],
   "source": [
    "root_path = Path('results') / f'dataset_V{dataset_version}'\n",
    "root_path.mkdir(exist_ok=True, parents=True)\n",
    "params_path = root_path / 'params.npy'\n",
    "\n",
    "if params_path.exists():\n",
    "    params = np.load(params_path, allow_pickle=True).item()\n",
    "    locals().update(params)\n",
    "else:\n",
    "    np.save(root_path / 'params.npy', {\n",
    "        'dataset_version': dataset_version,\n",
    "        'sr': sr,\n",
    "        'exclude_noisybee': exclude_noisybee,\n",
    "        'balancing': balancing,\n",
    "        'frame_length': frame_length,\n",
    "        'hop_length': hop_length,\n",
    "        'bee_fraction_threshold': bee_fraction_threshold,\n",
    "        'test_hop_length': test_hop_length\n",
    "    }, allow_pickle=True)"
   ]
  },
  {
   "cell_type": "code",
   "execution_count": null,
   "metadata": {},
   "outputs": [],
   "source": [
    "training_data_root_path = Path('all_training_data')\n",
    "training_data_subdirs = [\n",
    "    'training_data',\n",
    "    'training_data_new',\n",
    "    'training_data_new_2'\n",
    "]\n",
    "\n",
    "# different versions have different files\n",
    "# V1: only the initial files\n",
    "# V2: initial files + NoisyBee\n",
    "# V3: initial files + new files + new files 2\n",
    "if dataset_version < 3: \n",
    "    training_data_subdirs = training_data_subdirs[:1]"
   ]
  },
  {
   "cell_type": "code",
   "execution_count": null,
   "metadata": {},
   "outputs": [],
   "source": [
    "# spliting the recording files into train, validation and test sets by bee duration ratio\n",
    "# Train set: ~50%, Validation set: ~15%, Test set: ~30%\n",
    "\n",
    "datasets_path = root_path / 'datasets.npy'\n",
    "if datasets_path.exists():\n",
    "    datasets = np.load(datasets_path, allow_pickle=True).item()\n",
    "    locals().update(datasets)\n",
    "else:\n",
    "    rec_paths = sorted(sum(list(map(lambda subdir: list((training_data_root_path / subdir).glob('*.wav')), training_data_subdirs)), []))\n",
    "    train_files, test_files = train_test_split_by_bee(rec_paths, test_size=0.3, random_state=random_seed, exclude_noisy_bee=exclude_noisybee)\n",
    "    train_files, val_files = train_test_split_by_bee(train_files, test_size=0.2, random_state=random_seed, exclude_noisy_bee=exclude_noisybee)\n",
    "    datasets = {\n",
    "        'train_files': train_files,\n",
    "        'val_files': val_files,\n",
    "        'test_files': test_files,\n",
    "    }\n",
    "    np.save(datasets_path, datasets, allow_pickle=True)"
   ]
  },
  {
   "cell_type": "code",
   "execution_count": null,
   "metadata": {},
   "outputs": [],
   "source": [
    "train_annotations_path = root_path / 'train_annotations.csv'\n",
    "val_annotations_path = root_path / 'val_annotations.csv'\n",
    "test_annotations_path = root_path / 'test_annotations.csv'\n",
    "\n",
    "try:\n",
    "    train_annotations = pd.read_csv(train_annotations_path)\n",
    "    val_annotations = pd.read_csv(val_annotations_path)\n",
    "    test_annotations = pd.read_csv(test_annotations_path)\n",
    "except:\n",
    "    train_annotations = create_dataset_annotations(train_files, sr=sr, frame_length=frame_length, hop_length=hop_length, balancing=balancing, bee_fraction_threshold=bee_fraction_threshold, random_seed=random_seed, exclude_noisybee=exclude_noisybee)\n",
    "    val_annotations = create_dataset_annotations(val_files, sr=sr, frame_length=frame_length, hop_length=test_hop_length, balancing=balancing, bee_fraction_threshold=bee_fraction_threshold, random_seed=random_seed, exclude_noisybee=exclude_noisybee)\n",
    "    test_annotations = create_dataset_annotations(test_files, sr=sr, frame_length=frame_length, hop_length=test_hop_length, balancing=balancing, bee_fraction_threshold=bee_fraction_threshold, random_seed=random_seed, exclude_noisybee=exclude_noisybee)\n",
    "    train_annotations.to_csv(train_annotations_path, index=False)\n",
    "    val_annotations.to_csv(val_annotations_path, index=False)\n",
    "    test_annotations.to_csv(test_annotations_path, index=False)"
   ]
  }
 ],
 "metadata": {
  "kernelspec": {
   "display_name": "rozhin",
   "language": "python",
   "name": "python3"
  },
  "language_info": {
   "codemirror_mode": {
    "name": "ipython",
    "version": 3
   },
   "file_extension": ".py",
   "mimetype": "text/x-python",
   "name": "python",
   "nbconvert_exporter": "python",
   "pygments_lexer": "ipython3",
   "version": "3.10.13"
  }
 },
 "nbformat": 4,
 "nbformat_minor": 2
}
