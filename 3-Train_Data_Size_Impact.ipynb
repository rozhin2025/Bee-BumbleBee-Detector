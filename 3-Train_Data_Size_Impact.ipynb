{
 "cells": [
  {
   "cell_type": "code",
   "execution_count": null,
   "metadata": {},
   "outputs": [],
   "source": [
    "from pathlib import Path\n",
    "import gc\n",
    "import numpy as np\n",
    "import pandas as pd\n",
    "from utils import *"
   ]
  },
  {
   "cell_type": "code",
   "execution_count": null,
   "metadata": {},
   "outputs": [],
   "source": [
    "import tensorflow as tf\n",
    "tf.keras.mixed_precision.set_global_policy('mixed_float16')\n",
    "from keras.utils import set_random_seed\n",
    "from keras.callbacks import EarlyStopping\n",
    "from keras.optimizers.optimizer_v2.adadelta import Adadelta\n",
    "from keras.losses import mean_squared_logarithmic_error"
   ]
  },
  {
   "cell_type": "code",
   "execution_count": null,
   "metadata": {},
   "outputs": [],
   "source": [
    "random_seed = 13\n",
    "set_random_seed(random_seed)\n",
    "rng = np.random.default_rng(random_seed)"
   ]
  },
  {
   "cell_type": "code",
   "execution_count": null,
   "metadata": {},
   "outputs": [],
   "source": [
    "dataset_version = 3\n",
    "root_path = Path('results') / f'dataset_V{dataset_version}'\n",
    "params_path = root_path / 'params.npy'\n",
    "params = np.load(params_path, allow_pickle=True).item()\n",
    "locals().update(params)\n",
    "datasets_path = root_path / 'datasets.npy'\n",
    "datasets = np.load(datasets_path, allow_pickle=True).item()\n",
    "locals().update(datasets)\n",
    "all_train_files = train_files.copy()\n",
    "train_all_annotations = pd.read_csv(params_path.with_name('train_annotations.csv'))\n",
    "val_annotations = pd.read_csv(params_path.with_name('val_annotations.csv'))\n",
    "test_annotations = pd.read_csv(params_path.with_name('test_annotations.csv'))"
   ]
  },
  {
   "cell_type": "code",
   "execution_count": null,
   "metadata": {},
   "outputs": [],
   "source": [
    "frame_length_seconds = frame_length / sr\n",
    "hop_length_seconds = hop_length / sr\n",
    "\n",
    "batch_size = 100\n",
    "n_epochs = 100"
   ]
  },
  {
   "cell_type": "code",
   "execution_count": null,
   "metadata": {},
   "outputs": [],
   "source": [
    "save_path_root = root_path / 'data_size_impact'\n",
    "save_path_root.mkdir(parents=True, exist_ok=True)"
   ]
  },
  {
   "cell_type": "code",
   "execution_count": null,
   "metadata": {},
   "outputs": [],
   "source": [
    "seeds = [None, 33897, 24971723, 'sorted_by_effectiveness']\n",
    "save_paths = [save_path_root / f'{seed}/gammatone_frozen' for seed in seeds]\n",
    "if not all([save_path.exists() for save_path in save_paths]):\n",
    "    x_val, y_val, _ = create_dataset_from_annotations(annotations=val_annotations, sr=sr, frame_length=frame_length, hop_length=test_hop_length)\n",
    "    x_val = x_val[..., None].astype(float) #safe_cast_to_f16(x_val[..., None])\n",
    "    y_val = y_val.astype(float) #safe_cast_to_f16(y_val.astype(float))"
   ]
  },
  {
   "cell_type": "code",
   "execution_count": null,
   "metadata": {},
   "outputs": [],
   "source": [
    "all_tries = list(save_path_root.glob('*'))\n",
    "all_results = []\n",
    "for try_path in all_tries:\n",
    "    result_path = list(try_path.rglob('*.csv'))\n",
    "    if len(result_path) == 0:\n",
    "        continue\n",
    "    result_path = result_path[0]\n",
    "    result = pd.read_csv(result_path)\n",
    "    result['seed'] = try_path.name.split('_')[-1]\n",
    "    result['effectiveness'] = result['macro avg_f1-score'].diff() / (result['training_size'].diff() / result['training_size'])\n",
    "    all_results.append(result)\n",
    "if len(all_results) > 0:\n",
    "    all_results = pd.concat(all_results, ignore_index=True)\n",
    "else: all_results = None"
   ]
  },
  {
   "cell_type": "code",
   "execution_count": null,
   "metadata": {},
   "outputs": [],
   "source": [
    "for seed_ in seeds:\n",
    "    seed = seed_\n",
    "    train_files = all_train_files.copy()\n",
    "    if seed is None:\n",
    "        seed = 'None'\n",
    "    elif type(seed) is int:\n",
    "        rng_1 = np.random.default_rng(seed)\n",
    "        rng_1.shuffle(train_files)\n",
    "    elif seed == 'sorted_by_effectiveness':\n",
    "        if all_results is None: continue\n",
    "        train_files = [Path(p) for p in all_results.groupby('new_rec')['effectiveness'].mean().sort_values(ascending=False).index.values]\n",
    "\n",
    "    save_path = save_path_root / f'{seed}/gammatone_frozen'\n",
    "    models_paths = list(save_path.rglob('model.h5'))\n",
    "    if len(models_paths) >= len(train_files): continue\n",
    "    \n",
    "    for i in range(len(train_files)):\n",
    "        train_files_subset = train_files[:i+1]\n",
    "        train_files_subset_annotations = create_dataset_annotations(train_files_subset, sr=sr, frame_length=frame_length, hop_length=hop_length, balancing=balancing, bee_fraction_threshold=bee_fraction_threshold, random_seed=random_seed, exclude_noisybee=exclude_noisybee)\n",
    "        \n",
    "        model_save_path = save_path / f'round_{i}/{int(train_files_subset_annotations.is_selected.sum())}/model.h5'\n",
    "        if model_save_path.exists(): continue\n",
    "        \n",
    "        x_train, y_train, _ = create_dataset_from_annotations(annotations=train_files_subset_annotations, sr=sr, frame_length=frame_length, hop_length=hop_length)\n",
    "        x_train = x_train[..., None].astype(float) #safe_cast_to_f16(x_train[..., None])\n",
    "        y_train = y_train.astype(float) #safe_cast_to_f16(y_train.astype(float))\n",
    "        \n",
    "        def idx_to_sample(idx):\n",
    "            idx = np.array(idx)\n",
    "            return x_train[idx], y_train[idx]\n",
    "        \n",
    "        train_data = tf.data.Dataset.from_tensor_slices(range(len(x_train)))\n",
    "        train_data = train_data.shuffle(buffer_size=len(x_train), seed=random_seed)\n",
    "        train_data = train_data.batch(batch_size, drop_remainder=True)\n",
    "        train_data = train_data.map(lambda idx: tf.py_function(func=idx_to_sample, inp=[idx], Tout=(tf.float16, tf.float16)), num_parallel_calls=tf.data.experimental.AUTOTUNE)\n",
    "        train_data = train_data.prefetch(1)\n",
    "        \n",
    "        model = create_classification_model_gammatone(frame_length)\n",
    "        model.layers[1].trainable = False\n",
    "        model.compile(\n",
    "            loss=mean_squared_logarithmic_error,\n",
    "            optimizer=Adadelta(learning_rate=1e-2),\n",
    "            metrics=[tf.keras.metrics.BinaryAccuracy()]\n",
    "        )\n",
    "        history = model.fit(\n",
    "            train_data,\n",
    "            batch_size=batch_size,\n",
    "            epochs=n_epochs,\n",
    "            shuffle=True,\n",
    "            validation_data=(x_val, y_val),\n",
    "            callbacks=[EarlyStopping(patience=10, restore_best_weights=True)]\n",
    "        )\n",
    "\n",
    "        model_save_path.parent.mkdir(exist_ok=True, parents=True)\n",
    "        model.save(model_save_path)\n",
    "        np.save(model_save_path.with_suffix('.npy'), history.history, allow_pickle=True)\n",
    "        \n",
    "        del x_train, y_train\n",
    "        gc.collect(), tf.keras.backend.clear_session()"
   ]
  }
 ],
 "metadata": {
  "kernelspec": {
   "display_name": "rozhin",
   "language": "python",
   "name": "python3"
  },
  "language_info": {
   "codemirror_mode": {
    "name": "ipython",
    "version": 3
   },
   "file_extension": ".py",
   "mimetype": "text/x-python",
   "name": "python",
   "nbconvert_exporter": "python",
   "pygments_lexer": "ipython3",
   "version": "3.10.13"
  }
 },
 "nbformat": 4,
 "nbformat_minor": 2
}
