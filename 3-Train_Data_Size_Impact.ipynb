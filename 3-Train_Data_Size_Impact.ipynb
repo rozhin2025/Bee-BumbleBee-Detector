{
 "cells": [
  {
   "cell_type": "code",
   "execution_count": null,
   "metadata": {},
   "outputs": [],
   "source": [
    "import platform\n",
    "import pathlib\n",
    "if platform.system() != 'Windows': pathlib.WindowsPath = pathlib.PosixPath"
   ]
  },
  {
   "cell_type": "code",
   "execution_count": null,
   "metadata": {},
   "outputs": [],
   "source": [
    "from pathlib import Path\n",
    "import gc\n",
    "import numpy as np\n",
    "import pandas as pd\n",
    "from utils import *"
   ]
  },
  {
   "cell_type": "code",
   "execution_count": null,
   "metadata": {},
   "outputs": [],
   "source": [
    "import tensorflow as tf\n",
    "tf.keras.mixed_precision.set_global_policy('mixed_float16')\n",
    "from keras.utils import set_random_seed\n",
    "from keras.callbacks import EarlyStopping\n",
    "from keras.optimizers import Adadelta\n",
    "from keras.losses import mean_squared_logarithmic_error"
   ]
  },
  {
   "cell_type": "code",
   "execution_count": null,
   "metadata": {},
   "outputs": [],
   "source": [
    "from sklearn.metrics import classification_report"
   ]
  },
  {
   "cell_type": "code",
   "execution_count": null,
   "metadata": {},
   "outputs": [],
   "source": [
    "random_seed = 13\n",
    "set_random_seed(random_seed)\n",
    "rng = np.random.default_rng(random_seed)"
   ]
  },
  {
   "cell_type": "code",
   "execution_count": null,
   "metadata": {},
   "outputs": [],
   "source": [
    "dataset_version = 3\n",
    "root_path = Path('results') / f'dataset_V{dataset_version}'\n",
    "params_path = root_path / 'params.npy'\n",
    "params = np.load(params_path, allow_pickle=True).item()\n",
    "locals().update(params)\n",
    "datasets_path = root_path / 'datasets.npy'\n",
    "datasets = np.load(datasets_path, allow_pickle=True).item()\n",
    "locals().update(datasets)\n",
    "all_train_files = train_files.copy()\n",
    "train_all_annotations = pd.read_csv(params_path.with_name('train_annotations.csv'))\n",
    "val_annotations = pd.read_csv(params_path.with_name('val_annotations.csv'))\n",
    "test_annotations = pd.read_csv(params_path.with_name('test_annotations.csv'))\n",
    "x_val, y_val = None, None\n",
    "x_test, y_test = None, None"
   ]
  },
  {
   "cell_type": "code",
   "execution_count": null,
   "metadata": {},
   "outputs": [],
   "source": [
    "frame_length_seconds = frame_length / sr\n",
    "hop_length_seconds = hop_length / sr\n",
    "\n",
    "batch_size = 100\n",
    "n_epochs = 100\n",
    "\n",
    "seeds = [None, 33897, 24971723, 'sorted_by_effectiveness']\n",
    "seeds_to_train_files = {}\n",
    "for seed in seeds:\n",
    "    if seed is None: seeds_to_train_files['None'] = all_train_files.copy()\n",
    "    elif seed == 'sorted_by_effectiveness': seeds_to_train_files[seed] = None\n",
    "    else: \n",
    "        rng = np.random.default_rng(seed)\n",
    "        train_files = all_train_files.copy()\n",
    "        rng.shuffle(train_files)\n",
    "        seeds_to_train_files[str(seed)] = train_files"
   ]
  },
  {
   "cell_type": "code",
   "execution_count": null,
   "metadata": {},
   "outputs": [],
   "source": [
    "save_path_root = root_path / 'data_size_impact/gammatone_frozen'\n",
    "save_path_root.mkdir(parents=True, exist_ok=True)\n",
    "result_path = save_path_root / 'results.csv'"
   ]
  },
  {
   "cell_type": "code",
   "execution_count": null,
   "metadata": {},
   "outputs": [],
   "source": [
    "if result_path.exists():\n",
    "    results = pd.read_csv(result_path, index_col=0, header=[0, 1])\n",
    "    results.rename(lambda x: '' if x.startswith('Unnamed') else x, axis=1, level=0, inplace=True)\n",
    "    results.rename(lambda x: '' if x.startswith('Unnamed') else x, axis=1, level=1, inplace=True)\n",
    "    results.seed = results.seed.apply(lambda x: str(int(x)) if not np.isnan(x) else 'None')\n",
    "else: results = None"
   ]
  },
  {
   "cell_type": "code",
   "execution_count": null,
   "metadata": {},
   "outputs": [],
   "source": [
    "for model_path in save_path_root.rglob('model.h5'):\n",
    "    _, _, _, _, seed, round_i, n_train_samples, _ = model_path.parts\n",
    "    n_train_samples = int(n_train_samples)\n",
    "    round_i = int(round_i.split('_')[-1])\n",
    "    model_id = f'{seed}_{round_i}_{n_train_samples}'\n",
    "    new_recording = seeds_to_train_files[seed][round_i]\n",
    "    new_recording = f'{new_recording.parent.name}_{new_recording.stem}'\n",
    "    if results is None or model_id not in results['model_id'].values:\n",
    "        model = tf.keras.models.load_model(model_path)\n",
    "        if x_test is None:\n",
    "            x_test, y_test, _ = create_dataset_from_annotations(annotations=test_annotations, sr=sr, frame_length=frame_length, hop_length=test_hop_length)\n",
    "            x_test = x_test[..., None].astype(float)\n",
    "            y_test = np.vectorize({0: 'NoBee', 1: 'Bee'}.get)(y_test.astype(int))\n",
    "        y_pred = model.predict(x_test, batch_size=256)\n",
    "        gc.collect(), tf.keras.backend.clear_session()\n",
    "        y_pred = np.vectorize({0: 'NoBee', 1: 'Bee'}.get)((y_pred > 0.5).astype(int))\n",
    "        classification_report_results = classification_report(y_test, y_pred, output_dict=True)\n",
    "        classification_report_results = convert_classification_report_to_df(classification_report_results)\n",
    "        classification_report_results['model_id'] = model_id\n",
    "        classification_report_results['n_train_samples'] = n_train_samples\n",
    "        classification_report_results['seed'] = seed\n",
    "        classification_report_results['round_i'] = round_i\n",
    "        classification_report_results['new_recording'] = new_recording\n",
    "        results = pd.concat([results, classification_report_results], axis=0, ignore_index=True) if results is not None else classification_report_results\n",
    "        results.to_csv(result_path)\n",
    "        results.to_json(result_path.with_suffix('.json'))"
   ]
  },
  {
   "cell_type": "code",
   "execution_count": null,
   "metadata": {},
   "outputs": [],
   "source": [
    "results.sort_values('round_i', inplace=True)\n",
    "results['new_samples_count'] = results.groupby('seed').n_train_samples.diff()\n",
    "results['new_samples_count'] = results['new_samples_count'].fillna(results['n_train_samples'])\n",
    "results['new_samples_count_rel'] = results['new_samples_count'] / results['n_train_samples']\n",
    "results['f1_score_diff'] = results.groupby('seed')[[('macro avg', 'f1-score')]].diff().fillna(results[[('macro avg', 'f1-score')]]).values\n",
    "results['effectiveness'] = results['f1_score_diff'] / results['new_samples_count_rel']\n",
    "results['effectiveness'] = results.groupby('seed').effectiveness.transform(lambda x: x / np.abs(x).max())"
   ]
  },
  {
   "cell_type": "code",
   "execution_count": null,
   "metadata": {},
   "outputs": [],
   "source": [
    "random_seed_results = results[results.seed != 'sorted_by_effectiveness']\n",
    "if random_seed_results.shape[0] == (len(seeds) - 1) * len(all_train_files):\n",
    "    recordings_by_effectiveness = random_seed_results.groupby('new_recording').effectiveness.mean().sort_values(ascending=False).index.to_list()\n",
    "    train_files = sorted(all_train_files, key=lambda x: recordings_by_effectiveness.index(f'{x.parent.name}_{x.stem}'))\n",
    "    seeds_to_train_files['sorted_by_effectiveness'] = train_files"
   ]
  },
  {
   "cell_type": "code",
   "execution_count": null,
   "metadata": {},
   "outputs": [],
   "source": [
    "for seed, train_files in seeds_to_train_files.items():\n",
    "    if train_files is None: continue\n",
    "    save_path = save_path_root / f'{seed}'\n",
    "    models_paths = list(save_path.rglob('model.h5'))\n",
    "    if len(models_paths) >= len(train_files): continue\n",
    "    \n",
    "    for i in range(len(train_files)):\n",
    "        train_files_subset = train_files[:i+1]\n",
    "        train_files_subset_annotations = create_dataset_annotations(train_files_subset, sr=sr, frame_length=frame_length, hop_length=hop_length, balancing=balancing, bee_fraction_threshold=bee_fraction_threshold, random_seed=random_seed, exclude_noisybee=exclude_noisybee)\n",
    "        \n",
    "        model_save_path = save_path / f'round_{i}/{int(train_files_subset_annotations.is_selected.sum())}/model.h5'\n",
    "        if model_save_path.exists(): continue\n",
    "        if x_val is None:\n",
    "            x_val, y_val, _ = create_dataset_from_annotations(annotations=val_annotations, sr=sr, frame_length=frame_length, hop_length=test_hop_length)\n",
    "            x_val = x_val[..., None].astype(float)\n",
    "            y_val = y_val.astype(float)\n",
    "        x_train, y_train, _ = create_dataset_from_annotations(annotations=train_files_subset_annotations, sr=sr, frame_length=frame_length, hop_length=hop_length)\n",
    "        x_train = x_train[..., None].astype(float)\n",
    "        y_train = y_train.astype(float)\n",
    "        \n",
    "        def idx_to_sample(idx):\n",
    "            idx = np.array(idx)\n",
    "            return x_train[idx], y_train[idx]\n",
    "        \n",
    "        train_data = tf.data.Dataset.from_tensor_slices(range(len(x_train)))\n",
    "        train_data = train_data.shuffle(buffer_size=len(x_train), seed=random_seed)\n",
    "        train_data = train_data.batch(batch_size, drop_remainder=True)\n",
    "        train_data = train_data.map(lambda idx: tf.py_function(func=idx_to_sample, inp=[idx], Tout=(tf.float16, tf.float16)), num_parallel_calls=tf.data.experimental.AUTOTUNE)\n",
    "        train_data = train_data.prefetch(1)\n",
    "        \n",
    "        model = create_classification_model_gammatone(frame_length)\n",
    "        model.layers[1].trainable = False\n",
    "        model.compile(\n",
    "            loss=mean_squared_logarithmic_error,\n",
    "            optimizer=Adadelta(learning_rate=1e-2),\n",
    "            metrics=[tf.keras.metrics.BinaryAccuracy()]\n",
    "        )\n",
    "        history = model.fit(\n",
    "            train_data,\n",
    "            batch_size=batch_size,\n",
    "            epochs=n_epochs,\n",
    "            shuffle=True,\n",
    "            validation_data=(x_val, y_val),\n",
    "            callbacks=[EarlyStopping(patience=10, restore_best_weights=True)]\n",
    "        )\n",
    "\n",
    "        model_save_path.parent.mkdir(exist_ok=True, parents=True)\n",
    "        model.save(model_save_path)\n",
    "        np.save(model_save_path.with_suffix('.npy'), history.history, allow_pickle=True)\n",
    "        \n",
    "        del x_train, y_train\n",
    "        gc.collect(), tf.keras.backend.clear_session()"
   ]
  }
 ],
 "metadata": {
  "kernelspec": {
   "display_name": "rozhin",
   "language": "python",
   "name": "python3"
  },
  "language_info": {
   "codemirror_mode": {
    "name": "ipython",
    "version": 3
   },
   "file_extension": ".py",
   "mimetype": "text/x-python",
   "name": "python",
   "nbconvert_exporter": "python",
   "pygments_lexer": "ipython3",
   "version": "3.10.13"
  }
 },
 "nbformat": 4,
 "nbformat_minor": 2
}
